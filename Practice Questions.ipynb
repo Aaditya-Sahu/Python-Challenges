{
 "cells": [
  {
   "cell_type": "markdown",
   "id": "4107a95b",
   "metadata": {},
   "source": [
    "# Questions Practice"
   ]
  },
  {
   "cell_type": "code",
   "execution_count": null,
   "id": "028b5196",
   "metadata": {},
   "outputs": [],
   "source": [
    "def FirstReverse(strParam):\n",
    "    rev_str=\"\"\n",
    "    for i in range(0,len(strParam)-1):\n",
    "        rev_str=rev_str + strParam[len(strParam)-1-i]\n",
    "    return rev_str\n",
    "\n",
    "print(FirstReverse(raw_input()))"
   ]
  },
  {
   "cell_type": "code",
   "execution_count": null,
   "id": "94a13c36",
   "metadata": {},
   "outputs": [],
   "source": [
    "def FirstFactorial(num):\n",
    "    fact=1\n",
    "    for i in range(1,num+1):\n",
    "        fact=fact*i\n",
    "    return fact\n",
    "\n",
    "print(FirstFactorial(int(raw_input())))"
   ]
  },
  {
   "cell_type": "code",
   "execution_count": null,
   "id": "da440ef7",
   "metadata": {},
   "outputs": [],
   "source": [
    "def LongestWord(strParam):\n",
    "    str=\"\"\n",
    "    for i in range(0,len(strParam)):\n",
    "        if strParam[i].isalpha() == False:\n",
    "            str=str+\" \"\n",
    "        else:\n",
    "            str=str+strParam[i]\n",
    "            \n",
    "    str=str.split()\n",
    "    strParam=max(str, key=len)\n",
    "        \n",
    "    return strParam\n",
    "\n",
    "# keep this function call here\n",
    "# to see how to enter arguments in Python scroll down\n",
    "print LongestWord(raw_input()"
   ]
  },
  {
   "cell_type": "code",
   "execution_count": 3,
   "id": "d40fad46",
   "metadata": {},
   "outputs": [
    {
     "data": {
      "text/plain": [
       "'btbElbn bygmhqgk shItlkE'"
      ]
     },
     "execution_count": 3,
     "metadata": {},
     "output_type": "execute_result"
    }
   ],
   "source": [
    "def LetterChanges(strParam):\n",
    "    l = 'abcdefghijklmnopqrstuvwxyz'\n",
    "    e = ''\n",
    "    for i in strParam.lower():\n",
    "        if i not in l:\n",
    "            e += i\n",
    "        elif i == 'z':\n",
    "            e += 'a'\n",
    "        else:\n",
    "            x = l.index(i)\n",
    "            e += l[x + 1]\n",
    "    d = ''\n",
    "\n",
    "    for j in e:\n",
    "        if j in 'aeiou':\n",
    "            d += j.upper()\n",
    "        else:\n",
    "            d += j\n",
    "    strParam=d\n",
    "    return strParam\n",
    "\n",
    "\n",
    "# keep this function call here\n",
    "# to see how to enter arguments in Python scroll down\n",
    "LetterChanges('asadkam axflgpfj rghskjd')"
   ]
  },
  {
   "cell_type": "code",
   "execution_count": null,
   "id": "6783fcba",
   "metadata": {},
   "outputs": [],
   "source": [
    "def SimpleAdding(num):\n",
    "    total=0\n",
    "    for i in range(1,num+1):\n",
    "        total += i\n",
    "    return total\n",
    "\n",
    "SimpleAdding(7"
   ]
  },
  {
   "cell_type": "code",
   "execution_count": null,
   "id": "cca6465b",
   "metadata": {},
   "outputs": [],
   "source": [
    "def LetterCapitalize(strParam):\n",
    "    strParam=strParam.title()\n",
    "    return strParam\n",
    "\n",
    "# keep this function call here\n",
    "# to see how to enter arguments in Python scroll down\n",
    "print LetterCapitalize(raw_input())"
   ]
  },
  {
   "cell_type": "code",
   "execution_count": null,
   "id": "3df1075e",
   "metadata": {},
   "outputs": [],
   "source": [
    "def SimpleSymbols(strParam):\n",
    "    result = False\n",
    "    if strParam[0].isalpha()==True or strParam[-1].isalpha()==True:\n",
    "        result=False\n",
    "    else:\n",
    "        for i in range(0,len(strParam)):\n",
    "            if strParam[i].isalpha()==True:\n",
    "                if strParam[i-1]==\"+\" and strParam[i+1]==\"+\":\n",
    "                    result=True\n",
    "                else:\n",
    "                    result=False\n",
    "                    break\n",
    "    return result\n",
    "\n",
    "SimpleSymbols(\"====+s+==+++F+j+h=\")\n",
    "            \n",
    "            "
   ]
  },
  {
   "cell_type": "code",
   "execution_count": null,
   "id": "120f56df",
   "metadata": {},
   "outputs": [],
   "source": [
    "def CheckNums(num1, num2):\n",
    "    \n",
    "    if num1==num2:\n",
    "        result=-1\n",
    "    elif num1<num2:\n",
    "        result=True\n",
    "    else:\n",
    "        result=False\n",
    "    return result\n",
    "\n",
    "CheckNums(39,36)"
   ]
  },
  {
   "cell_type": "code",
   "execution_count": null,
   "id": "a1862292",
   "metadata": {},
   "outputs": [],
   "source": [
    "def TimeConvert(num):\n",
    "    hour=num//60\n",
    "    minute=num%60\n",
    "    \n",
    "    return  str(str(hour),':',str(minute)\n",
    "\n",
    "TimeConvert(453)"
   ]
  },
  {
   "cell_type": "code",
   "execution_count": null,
   "id": "cd2b6d2b",
   "metadata": {},
   "outputs": [],
   "source": [
    "def TimeConvert(num):\n",
    "    hour=num//60\n",
    "    minute=num%60\n",
    "    \n",
    "    return print(hour,':',minute,sep='')\n",
    "\n",
    "print(TimeConvert(int(input())))"
   ]
  },
  {
   "cell_type": "code",
   "execution_count": null,
   "id": "1170886d",
   "metadata": {},
   "outputs": [],
   "source": [
    "def AlphabetSoup(str): \n",
    "    return ''.join(sorted(str))\n",
    "    \n",
    "# keep this function call here  \n",
    "print(AlphabetSoup(input()))"
   ]
  },
  {
   "cell_type": "code",
   "execution_count": null,
   "id": "639d4d9e",
   "metadata": {},
   "outputs": [],
   "source": [
    "def ABCheck(strParam):\n",
    "    strParam=strParam.lower()\n",
    "    result=False\n",
    "    if len(strParam)<5:\n",
    "        result=False\n",
    "    elif strParam[0]==\"a\":\n",
    "        if strParam[4]==\"b\":\n",
    "            result=True\n",
    "    elif strParam[0]==\"b\":\n",
    "        if strParam[4]==\"a\":\n",
    "            result=True\n",
    "    else:\n",
    "        pass\n",
    "    if strParam[-1]==\"a\":\n",
    "        if strParam[-5]==\"b\":\n",
    "            result=True\n",
    "    elif strParam[-1]==\"b\":\n",
    "        if strParam[-5]==\"a\":\n",
    "            result=True\n",
    "    index=range(5,(len(strParam)-5))\n",
    "    for i in index:\n",
    "        if strParam[i]==\"a\":\n",
    "            if strParam[i+4]==\"b\" or strParam[i-4]==\"b\":\n",
    "                result=True\n",
    "                break\n",
    "    return result\n",
    "\n",
    "print ABCheck(raw_input())"
   ]
  },
  {
   "cell_type": "code",
   "execution_count": null,
   "id": "1629731b",
   "metadata": {},
   "outputs": [],
   "source": [
    "def VovelCount(strParam):\n",
    "    strParam=strParam.lower()\n",
    "    count=0\n",
    "    for i in strParam:\n",
    "        if i==\"a\" or i==\"i\" or i==\"o\" or i==\"e\" or i==\"u\":\n",
    "            count +=1\n",
    "    return count\n",
    "\n",
    "VovelCount(\"adjlakjfjbhcbksadjlweiedwjijlKJOIodiLj<>LKho;as,.amc;amclkaahs\")"
   ]
  },
  {
   "cell_type": "code",
   "execution_count": null,
   "id": "ee568a24",
   "metadata": {},
   "outputs": [],
   "source": [
    "def ExOh(strParam):\n",
    "    strParam=strParam.lower()\n",
    "    x=o=0\n",
    "    for i in strParam:\n",
    "        if i==\"x\":\n",
    "            x+=1\n",
    "        else:\n",
    "            o+=1\n",
    "    return x==o\n",
    "\n",
    "ExOh(\"xxoo\")"
   ]
  },
  {
   "cell_type": "code",
   "execution_count": null,
   "id": "bb4555b3",
   "metadata": {},
   "outputs": [],
   "source": [
    "def Pailindrome(strParam):\n",
    "    pail=False\n",
    "    strParam = strParam.replace(\" \", \"\")\n",
    "            \n",
    "    for i in range(0,len(strParam)-1):\n",
    "        if strParam[i]==strParam[-i-1]:\n",
    "            pail=True\n",
    "        else:\n",
    "            pail=False\n",
    "            break\n",
    "    return pail\n",
    "\n",
    "Pailindrome(\"assldf fd sa\")"
   ]
  },
  {
   "cell_type": "code",
   "execution_count": null,
   "id": "f6821f3f",
   "metadata": {},
   "outputs": [],
   "source": [
    "print(-8/2)"
   ]
  },
  {
   "cell_type": "code",
   "execution_count": null,
   "id": "051c122e",
   "metadata": {},
   "outputs": [],
   "source": [
    "def ArithGeo(arr):\n",
    "    diff = arr[1] - arr[0]\n",
    "    mult = arr[1] / arr[0]\n",
    "    arithmetic = True\n",
    "    for i in range(0, len(arr) - 1):\n",
    "        if diff != (arr[i + 1] - arr[i]):\n",
    "            arithmetic = False\n",
    "            break\n",
    "    if arithmetic:\n",
    "        return \"Arithmetic\"\n",
    "    for i in range(0, len(arr) - 1):\n",
    "        if mult != (arr[i + 1] / arr[i]):\n",
    "            return -1\n",
    "    return \"Geometric\"\n",
    "\n",
    "ArithGeo([2,-4,8,-16,32])\n",
    "        "
   ]
  },
  {
   "cell_type": "code",
   "execution_count": null,
   "id": "9ccf8556",
   "metadata": {},
   "outputs": [],
   "source": [
    "def ArrayAdditionI(arr):\n",
    "    big=max(arr)\n",
    "    sums=[]\n",
    "    arr.remove(big)\n",
    "\n",
    "    for i in arr:\n",
    "        sums.append(i)\n",
    "        j=i\n",
    "        arr.remove(i)\n",
    "        for k in arr:\n",
    "            sums.append(i+k)\n",
    "            j+=k\n",
    "            sums.append(j)\n",
    "\n",
    "    if big in sums:\n",
    "        return \"true\"\n",
    "    return \"false\"  \n",
    "\n",
    "ArrayAdditionI([1,3,4,-7])"
   ]
  },
  {
   "cell_type": "code",
   "execution_count": null,
   "id": "72a89ff7",
   "metadata": {},
   "outputs": [],
   "source": [
    "def LetterCountI(strParam):\n",
    "    strParam=strParam.split()\n",
    "    max=0\n",
    "    result=\"-1\"\n",
    "    for n in strParam:\n",
    "        for i in n:\n",
    "            j=n.count(i)\n",
    "            if j > 1 and j > max:\n",
    "                max=j\n",
    "                result=n\n",
    "    return result\n",
    "                \n",
    "                    \n",
    "            \n",
    "            \n",
    "LetterCountI(\"Hii howww areeee yoooooou\")"
   ]
  },
  {
   "cell_type": "code",
   "execution_count": null,
   "id": "d2327b04",
   "metadata": {},
   "outputs": [],
   "source": [
    "def SecondGreatLow(arr):\n",
    "    if len(arr)==2:\n",
    "        ss=max(arr)\n",
    "        sl=min(arr)\n",
    "    else:\n",
    "        arr.remove(min(arr))\n",
    "        arr.remove(max(arr))\n",
    "        ss=min(arr)\n",
    "        sl=max(arr)\n",
    "    return print(ss, sl)\n",
    "\n",
    "SecondGreatLow([2,5])"
   ]
  },
  {
   "cell_type": "code",
   "execution_count": null,
   "id": "f49e6b58",
   "metadata": {},
   "outputs": [],
   "source": [
    "def PrimeTime(num):\n",
    "    j=0\n",
    "    for i in range(1,num):\n",
    "        if num%i==0:\n",
    "            j+=1\n",
    "    if j>1:\n",
    "        return print(\"False\")\n",
    "    return \"True\"\n",
    "    \n",
    "    \n",
    "PrimeTime(14)"
   ]
  },
  {
   "cell_type": "code",
   "execution_count": null,
   "id": "6aab2dd0",
   "metadata": {},
   "outputs": [],
   "source": [
    "def RunLength(strParam):\n",
    "    new=\"\"\n",
    "    for i in strParam:\n",
    "        new+=i\n",
    "        new+=str(strParam.count(i))\n",
    "        strParam=strParam.replace(i,\"\")\n",
    "    return new\n",
    "\n",
    "RunLength(\"aaaaadffggg\")"
   ]
  },
  {
   "cell_type": "code",
   "execution_count": null,
   "id": "e00e9841",
   "metadata": {},
   "outputs": [],
   "source": [
    "str=\"aaaaadffggg\"\n",
    "str.replace(\"a\",\"\")"
   ]
  },
  {
   "cell_type": "code",
   "execution_count": null,
   "id": "add3b829",
   "metadata": {},
   "outputs": [],
   "source": [
    "def RunLength(strParam):\n",
    "    new={}\n",
    "    new_str=\"\"\n",
    "    for i in strParam:\n",
    "        n=strParam.count(i)\n",
    "        new[i]=[]\n",
    "        new[i].append(n)\n",
    "    count=list(new.values())\n",
    "    char=list(new.keys())\n",
    "    for i in range(len(char)):\n",
    "        new_str+=str(count[i])\n",
    "        new_str+=str(char[i])\n",
    "    new_str=\"\".join(i for i in new_str if i.isalnum())\n",
    "    return print(new_str)"
   ]
  },
  {
   "cell_type": "code",
   "execution_count": null,
   "id": "efd7d91c",
   "metadata": {},
   "outputs": [],
   "source": [
    "def PrimeMover(num):\n",
    "    prime=[]\n",
    "    count=0\n",
    "    for i in range(1,10001):\n",
    "        for j in range(1,i):\n",
    "            if i%j==0:\n",
    "                count+=1\n",
    "            if count>1:\n",
    "                prime+=1\n",
    "    print(prime)\n",
    "                "
   ]
  },
  {
   "cell_type": "code",
   "execution_count": null,
   "id": "7d32223b",
   "metadata": {},
   "outputs": [],
   "source": [
    "def PrimeMover(num):\n",
    "    prime=[]\n",
    "    for i in range(1,10001):\n",
    "        count=0\n",
    "        for j in range(1,i):\n",
    "            if i%j==0:\n",
    "                count+=1\n",
    "        if count<2:\n",
    "            prime.append(i)\n",
    "    return prime[num]\n",
    "\n",
    "PrimeMover(16)"
   ]
  },
  {
   "cell_type": "code",
   "execution_count": null,
   "id": "bcd8e263",
   "metadata": {},
   "outputs": [],
   "source": [
    "def Pailindrome2(strParam):\n",
    "    strParam=\"\".join(filter(str.isalnum,strParam))  \n",
    "    strParam=strParam.replace(\" \",\"\")\n",
    "    strParam=strParam.lower()\n",
    "    for i in range(0,len(strParam)//2):\n",
    "        if strParam[i]!=strParam[-i-1]:\n",
    "            return False\n",
    "            break\n",
    "    return True\n",
    "    \n",
    "Pailindrome2('Anne, Is vote more cars race Rome-to-Vienna')"
   ]
  },
  {
   "cell_type": "code",
   "execution_count": null,
   "id": "727da081",
   "metadata": {},
   "outputs": [],
   "source": [
    "def Division(num1,num2):\n",
    "    f=[]\n",
    "    for i in range(1,num1+1):\n",
    "        if num1%i==0:\n",
    "            f.append(i)\n",
    "    for i in range(1,num2+1):\n",
    "        if num2%i==0:\n",
    "            f.append(i)\n",
    "    fn=[]\n",
    "    for i in f:\n",
    "        count=0\n",
    "        for j in f:\n",
    "            if i==j:\n",
    "                count+=1\n",
    "        if count==2:\n",
    "            fn.append(i)\n",
    "    return print(max(fn))\n",
    "Division(24,16)"
   ]
  },
  {
   "cell_type": "code",
   "execution_count": null,
   "id": "ce5eb79a",
   "metadata": {},
   "outputs": [],
   "source": [
    "def StringScramble(str1, str2):\n",
    "    str1=str1.lower()\n",
    "    str2=str2.lower()\n",
    "    str2copy=str2\n",
    "    str3=\"\"\n",
    "    for i in str1:\n",
    "        if i in str2:\n",
    "            str3+=i\n",
    "            str2=str2.replace(i,'',1)\n",
    "    if sorted(str3)==sorted(str2copy):\n",
    "        return True\n",
    "    return False\n",
    "\n",
    "StringScramble(\"asdfghjkl\",\"ghssd\")"
   ]
  },
  {
   "cell_type": "code",
   "execution_count": null,
   "id": "4e7fc98e",
   "metadata": {},
   "outputs": [],
   "source": [
    "def CaesarCipher(a_str, num):\n",
    "    s1=\"abcdefghijklmnopqrstuvwxyz\"\n",
    "    s2=s1.upper()\n",
    "    st=\"\"\n",
    "    for i in a_str:\n",
    "        if not i.isalpha():\n",
    "            st+=i\n",
    "        elif i.isupper():\n",
    "            index=s2.index(i)\n",
    "            j=(index+num)%25\n",
    "            if (index+num)>25:\n",
    "                j=j-1\n",
    "            st+=s2[j]\n",
    "        else:\n",
    "            index=s1.index(i)\n",
    "            j=(index+num)%25\n",
    "            if (index+num)>25:\n",
    "                j=j-1\n",
    "            st+=s1[j]\n",
    "    return st\n",
    "    \n",
    "CaesarCipher(\"Caesar Cipher\", 2)"
   ]
  },
  {
   "cell_type": "code",
   "execution_count": null,
   "id": "59623619",
   "metadata": {},
   "outputs": [],
   "source": [
    "def CaesarCipher(a_str, num):\n",
    "    s1=\"abcdefghijklmnopqrstuvwxyz\"\n",
    "    s2=s1.upper()\n",
    "    st=\"\"\n",
    "    for i in a_str:\n",
    "        if not i.isalpha():\n",
    "            st+=i\n",
    "        elif i.islower():\n",
    "            index=s1.index(i)\n",
    "            j=(index+num)%25\n",
    "            if (index+num)>25:\n",
    "                j=j-1\n",
    "            st+=s1[j]\n",
    "        else:\n",
    "            index=s2.index(i)\n",
    "            j=(index+num)%25\n",
    "            if (index+num)>25:\n",
    "                j=j-1\n",
    "            st+=s2[j]\n",
    "        return st\n",
    "\n",
    "CaesarCipher(\"Caesar Cipher\", 2)"
   ]
  },
  {
   "cell_type": "code",
   "execution_count": null,
   "id": "11730d18",
   "metadata": {},
   "outputs": [],
   "source": [
    "def SimpleMode(arr):\n",
    "    mode=[]\n",
    "    for i in arr:\n",
    "        count=0\n",
    "        for j in arr:\n",
    "            if i==j:\n",
    "                count+=1    \n",
    "        mode.append(count)\n",
    "    m=mode.index(max(mode))\n",
    "    if len(set(mode))==1:\n",
    "        return -1\n",
    "    return arr[m]\n",
    "    \n",
    "    \n",
    "SimpleMode([1,3,3,3,1,1,3])"
   ]
  },
  {
   "cell_type": "code",
   "execution_count": null,
   "id": "8970457e",
   "metadata": {},
   "outputs": [],
   "source": [
    "def Consecutive(arr):\n",
    "    count=0\n",
    "    for i in range(min(arr),max(arr)):\n",
    "        if i not in arr:\n",
    "            count+=1\n",
    "    return count\n",
    "Consecutive([4,6,8,11,15,50])    "
   ]
  },
  {
   "cell_type": "code",
   "execution_count": null,
   "id": "26f16e13",
   "metadata": {},
   "outputs": [],
   "source": [
    "def DashInsertII(num):\n",
    "    n=\"\"\n",
    "    e='2468'\n",
    "    o='13579'\n",
    "    for i in range(len(num)-1):\n",
    "        n+=num[i]\n",
    "        if num[i] in o and num[i+1] in o:\n",
    "            n+='-'\n",
    "        elif num[i] in e and num[i+1] in e:\n",
    "            n+='*'\n",
    "    n+=num[-1]\n",
    "    return print(n)\n",
    "DashInsertII('244586')"
   ]
  },
  {
   "cell_type": "code",
   "execution_count": null,
   "id": "6c310693",
   "metadata": {},
   "outputs": [],
   "source": [
    "def NumberSearch(strParam):\n",
    "    l=0\n",
    "    c=0\n",
    "    for i in strParam:\n",
    "        if i.isnumeric()==True:\n",
    "            l+=int(i)\n",
    "        elif i.isalpha()==True:\n",
    "            c+=1\n",
    "    return print(round(l/c))\n",
    "NumberSearch('2kkk9')"
   ]
  },
  {
   "cell_type": "code",
   "execution_count": null,
   "id": "601143ac",
   "metadata": {},
   "outputs": [],
   "source": [
    "def TripleDouble(num1, num2):\n",
    "    s=\"\"\n",
    "    for i in range(0,len(num1)-2):\n",
    "        if num1[i]==num1[i+1] and num1[i]==num1[i+2]:\n",
    "            s+=num1[i]\n",
    "    for i in s:\n",
    "        for j in range(0,(len(num2)-1)):\n",
    "            if i==num2[j] and i==num2[j+1]:\n",
    "                return '1'\n",
    "    return '0'\n",
    "\n",
    "TripleDouble('1117', '117')"
   ]
  },
  {
   "cell_type": "code",
   "execution_count": null,
   "id": "041254f5",
   "metadata": {},
   "outputs": [],
   "source": [
    "def DistinctList(an_array):\n",
    "    l = list(set(an_array))\n",
    "    n = len(an_array) - len(l)\n",
    "    return print(n)\n",
    "\n",
    "DistinctList([2,3,4,5,4,4,5,5,3,2])"
   ]
  },
  {
   "cell_type": "code",
   "execution_count": 5,
   "id": "63bf00a3",
   "metadata": {},
   "outputs": [
    {
     "name": "stdout",
     "output_type": "stream",
     "text": [
      "1653 1#!\n"
     ]
    }
   ],
   "source": [
    "def NumberEncoding(strParam):\n",
    "    s='1abcdefghijklmnopqrstuvwxyz'\n",
    "    new=''\n",
    "    for i in strParam:\n",
    "        if i.isalpha()==True:\n",
    "            new+=str(s.index(i))\n",
    "        else:\n",
    "            new+=i\n",
    "    return print(new)\n",
    "NumberEncoding('af5c a#!')"
   ]
  },
  {
   "cell_type": "code",
   "execution_count": null,
   "id": "fd260362",
   "metadata": {},
   "outputs": [],
   "source": []
  },
  {
   "cell_type": "code",
   "execution_count": null,
   "id": "f4d4148a",
   "metadata": {},
   "outputs": [],
   "source": []
  },
  {
   "cell_type": "code",
   "execution_count": null,
   "id": "452304b9",
   "metadata": {},
   "outputs": [],
   "source": []
  },
  {
   "cell_type": "code",
   "execution_count": null,
   "id": "00f2315a",
   "metadata": {},
   "outputs": [],
   "source": []
  },
  {
   "cell_type": "code",
   "execution_count": null,
   "id": "8ac86e9a",
   "metadata": {},
   "outputs": [],
   "source": []
  }
 ],
 "metadata": {
  "kernelspec": {
   "display_name": "Python 3 (ipykernel)",
   "language": "python",
   "name": "python3"
  },
  "language_info": {
   "codemirror_mode": {
    "name": "ipython",
    "version": 3
   },
   "file_extension": ".py",
   "mimetype": "text/x-python",
   "name": "python",
   "nbconvert_exporter": "python",
   "pygments_lexer": "ipython3",
   "version": "3.9.12"
  }
 },
 "nbformat": 4,
 "nbformat_minor": 5
}
